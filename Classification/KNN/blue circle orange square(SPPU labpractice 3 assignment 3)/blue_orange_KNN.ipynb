{
 "cells": [
  {
   "cell_type": "code",
   "execution_count": 254,
   "metadata": {},
   "outputs": [],
   "source": [
    "import numpy as np\n",
    "import matplotlib.pyplot as plt\n",
    "from matplotlib import style\n",
    "from collections import Counter "
   ]
  },
  {
   "cell_type": "code",
   "execution_count": 255,
   "metadata": {},
   "outputs": [],
   "source": [
    "style.use('fivethirtyeight')"
   ]
  },
  {
   "cell_type": "code",
   "execution_count": 256,
   "metadata": {},
   "outputs": [],
   "source": [
    "classes={'class1':'orange','class2':'blue'}"
   ]
  },
  {
   "cell_type": "code",
   "execution_count": 257,
   "metadata": {},
   "outputs": [],
   "source": [
    "dataset={classes['class1']:[[4,2],[2,4],[6,4],[4,6]],classes['class2']:[[4,4],[6,2]]}"
   ]
  },
  {
   "cell_type": "code",
   "execution_count": 258,
   "metadata": {},
   "outputs": [
    {
     "data": {
      "text/plain": [
       "{'orange': [[4, 2], [2, 4], [6, 4], [4, 6]], 'blue': [[4, 4], [6, 2]]}"
      ]
     },
     "execution_count": 258,
     "metadata": {},
     "output_type": "execute_result"
    }
   ],
   "source": [
    "dataset"
   ]
  },
  {
   "cell_type": "code",
   "execution_count": 259,
   "metadata": {},
   "outputs": [],
   "source": [
    "pt_shape={classes['class1']:',',classes['class2']:'o'}"
   ]
  },
  {
   "cell_type": "code",
   "execution_count": 260,
   "metadata": {},
   "outputs": [
    {
     "data": {
      "text/plain": [
       "{'orange': ',', 'blue': 'o'}"
      ]
     },
     "execution_count": 260,
     "metadata": {},
     "output_type": "execute_result"
    }
   ],
   "source": [
    "pt_shape"
   ]
  },
  {
   "cell_type": "code",
   "execution_count": 261,
   "metadata": {},
   "outputs": [],
   "source": [
    "predict=[6,6]"
   ]
  },
  {
   "cell_type": "code",
   "execution_count": 262,
   "metadata": {},
   "outputs": [],
   "source": [
    "def k_nearest_neighbors(data,predict,k=3):\n",
    "    distances=[]\n",
    "    for group in data:\n",
    "        for point in data[group]:\n",
    "            euclidean_dist=np.linalg.norm(np.array(point)-np.array(predict))\n",
    "            distances.append([euclidean_dist,group])\n",
    "            \n",
    "    votes=[i[1] for i in sorted(distances)[:k]] \n",
    "    #sorted sorts the list of list using item at 0 index i.e. euclidean_dist\n",
    "    #i[1] will store group as distance becomes irrelavent in sorted list\n",
    "    vote_result=Counter(votes).most_common(1)[0][0]\n",
    "    \n",
    "    return vote_result"
   ]
  },
  {
   "cell_type": "code",
   "execution_count": 263,
   "metadata": {},
   "outputs": [
    {
     "data": {
      "image/png": "[encoded data removed]",
      "text/plain": [
       "<Figure size 576x396 with 1 Axes>"
      ]
     },
     "metadata": {},
     "output_type": "display_data"
    }
   ],
   "source": [
    "#SINLE LINE FOR LOOP CANT BE IMPLEMENTED FOR ASSIGNMENT OPERATIONS\n",
    "#USE IT FOR SINGLE LINE NON ASSIGNING STATEMENTS ONLY LIKE GIVEN BELOW\n",
    "[[plt.scatter(point[0],point[1],color=group,marker=pt_shape[group]) for point in dataset[group]] for group in dataset]\n",
    "plt.show()"
   ]
  },
  {
   "cell_type": "code",
   "execution_count": 264,
   "metadata": {},
   "outputs": [
    {
     "name": "stdout",
     "output_type": "stream",
     "text": [
      "[6, 6]\n",
      "orange\n"
     ]
    }
   ],
   "source": [
    "group=k_nearest_neighbors(dataset,predict,k=3)\n",
    "print(predict)\n",
    "print(group)"
   ]
  },
  {
   "cell_type": "code",
   "execution_count": 265,
   "metadata": {},
   "outputs": [
    {
     "data": {
      "text/plain": [
       "[]"
      ]
     },
     "execution_count": 265,
     "metadata": {},
     "output_type": "execute_result"
    },
    {
     "data": {
      "image/png": "[encoded data removed]",
      "text/plain": [
       "<Figure size 576x396 with 1 Axes>"
      ]
     },
     "metadata": {},
     "output_type": "display_data"
    }
   ],
   "source": [
    "[[plt.scatter(point[0],point[1],color=group,marker=pt_shape[group]) for point in dataset[group]] for group in dataset]\n",
    "plt.scatter(predict[0],predict[1],color=group,marker=pt_shape[group])\n",
    "plt.plot()"
   ]
  },
  {
   "cell_type": "code",
   "execution_count": 266,
   "metadata": {},
   "outputs": [],
   "source": [
    "#weighted KNN"
   ]
  },
  {
   "cell_type": "code",
   "execution_count": 267,
   "metadata": {},
   "outputs": [],
   "source": [
    "def weight_function(dist):\n",
    "    weight=round((1/dist),2)\n",
    "    return weight\n",
    "    "
   ]
  },
  {
   "cell_type": "code",
   "execution_count": 268,
   "metadata": {},
   "outputs": [],
   "source": [
    "def get_highest_wt_group(votes):\n",
    "    wt_class1=0;wt_class2=0\n",
    "    for group in votes:\n",
    "        if group[0]==classes['class1']:\n",
    "            wt_class1+=group[1]\n",
    "        elif group[0]==classes['class2']:\n",
    "            wt_class2+=group[1]\n",
    "\n",
    "    print(f\"weight of classes {classes['class1']} {wt_class1} , {classes['class2']} {wt_class2}\")\n",
    "    \n",
    "    if wt_class1>wt_class2:\n",
    "          return classes['class1']\n",
    "    elif wt_class1<=wt_class2:\n",
    "          return classes['class2']\n",
    "          \n",
    "    \n"
   ]
  },
  {
   "cell_type": "code",
   "execution_count": 269,
   "metadata": {},
   "outputs": [],
   "source": [
    "def weighted_k_nearest_neighbors(data,predict,k=3):\n",
    "    distances=[]\n",
    "    for group in data:\n",
    "        for point in data[group]:\n",
    "            euclidean_dist=np.linalg.norm(np.array(point)-np.array(predict))\n",
    "            weight=weight_function(euclidean_dist)\n",
    "            distances.append([euclidean_dist,group,weight])\n",
    "            \n",
    "    votes=[[i[1],i[2]] for i in sorted(distances)[:k]]\n",
    "    \n",
    "    vote_result=get_highest_wt_group(votes)\n",
    "    \n",
    "    return vote_result"
   ]
  },
  {
   "cell_type": "code",
   "execution_count": 270,
   "metadata": {},
   "outputs": [
    {
     "name": "stdout",
     "output_type": "stream",
     "text": [
      "weight of classes orange 1.0 , blue 0.35\n",
      "[6, 6]\n",
      "orange\n"
     ]
    }
   ],
   "source": [
    "group=weighted_k_nearest_neighbors(dataset,predict,3)\n",
    "print(predict)\n",
    "print(group)"
   ]
  },
  {
   "cell_type": "code",
   "execution_count": 271,
   "metadata": {},
   "outputs": [
    {
     "data": {
      "image/png": "[encoded data removed]",
      "text/plain": [
       "<Figure size 576x396 with 1 Axes>"
      ]
     },
     "metadata": {},
     "output_type": "display_data"
    }
   ],
   "source": [
    "[[plt.scatter(point[0],point[1],color=group,marker=pt_shape[group]) for point in dataset[group]] for group in dataset]\n",
    "plt.scatter(predict[0],predict[1],color=group,marker=pt_shape[group])\n",
    "plt.show()"
   ]
  },
  {
   "cell_type": "code",
   "execution_count": null,
   "metadata": {},
   "outputs": [],
   "source": []
  },
  {
   "cell_type": "code",
   "execution_count": null,
   "metadata": {},
   "outputs": [],
   "source": []
  },
  {
   "cell_type": "code",
   "execution_count": null,
   "metadata": {},
   "outputs": [],
   "source": []
  }
 ],
 "metadata": {
  "kernelspec": {
   "display_name": "Python 3",
   "language": "python",
   "name": "python3"
  },
  "language_info": {
   "codemirror_mode": {
    "name": "ipython",
    "version": 3
   },
   "file_extension": ".py",
   "mimetype": "text/x-python",
   "name": "python",
   "nbconvert_exporter": "python",
   "pygments_lexer": "ipython3",
   "version": "3.7.3"
  }
 },
 "nbformat": 4,
 "nbformat_minor": 2
}
