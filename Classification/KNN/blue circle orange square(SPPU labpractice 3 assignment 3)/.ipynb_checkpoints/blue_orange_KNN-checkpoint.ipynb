{
 "cells": [
  {
   "cell_type": "code",
   "execution_count": 3,
   "metadata": {},
   "outputs": [],
   "source": [
    "import numpy as np\n",
    "import pandas as pd\n",
    "import matplotlib.pyplot as plt\n",
    "from matplotlib import style\n",
    "from collections import Counter "
   ]
  },
  {
   "cell_type": "code",
   "execution_count": 20,
   "metadata": {},
   "outputs": [],
   "source": [
    "style.use('fivethirtyeight')"
   ]
  },
  {
   "cell_type": "code",
   "execution_count": 21,
   "metadata": {},
   "outputs": [],
   "source": [
    "dataset={'orange':[[4,2],[2,4],[6,4],[4,6]],'blue':[[4,4],[6,2]]}"
   ]
  },
  {
   "cell_type": "code",
   "execution_count": 22,
   "metadata": {},
   "outputs": [
    {
     "data": {
      "text/plain": [
       "{'orange': [[4, 2], [2, 4], [6, 4], [4, 6]], 'blue': [[4, 4], [6, 2]]}"
      ]
     },
     "execution_count": 22,
     "metadata": {},
     "output_type": "execute_result"
    }
   ],
   "source": [
    "dataset"
   ]
  },
  {
   "cell_type": "code",
   "execution_count": 23,
   "metadata": {},
   "outputs": [],
   "source": [
    "pt_shape={'orange':',','blue':'o'}"
   ]
  },
  {
   "cell_type": "code",
   "execution_count": 24,
   "metadata": {},
   "outputs": [
    {
     "data": {
      "text/plain": [
       "{'orange': ',', 'blue': 'o'}"
      ]
     },
     "execution_count": 24,
     "metadata": {},
     "output_type": "execute_result"
    }
   ],
   "source": [
    "pt_shape"
   ]
  },
  {
   "cell_type": "code",
   "execution_count": 25,
   "metadata": {},
   "outputs": [],
   "source": [
    "predict=[6,6]"
   ]
  },
  {
   "cell_type": "code",
   "execution_count": 26,
   "metadata": {},
   "outputs": [],
   "source": [
    "def k_nearest_neighbors(data,predict,k=3):\n",
    "    distances=[]\n",
    "    for group in data:\n",
    "        for point in data[group]:\n",
    "            euclidean_dist=np.linalg.norm(np.array(point)-np.array(predict))\n",
    "            distances.append([group,euclidean_dist])\n",
    "            \n",
    "    votes=[i[1] for i in sorted(distances)[:k]] \n",
    "    #i[1] will store group as distance becomes irrelavent in sorted list\n",
    "    print(votes)\n",
    "    vote_result=Counter(votes).most_common(1)[0][0]\n",
    "    \n",
    "    return vote_result"
   ]
  },
  {
   "cell_type": "code",
   "execution_count": 27,
   "metadata": {},
   "outputs": [
    {
     "data": {
      "image/png": "[encoded data removed]",
      "text/plain": [
       "<Figure size 432x288 with 1 Axes>"
      ]
     },
     "metadata": {},
     "output_type": "display_data"
    }
   ],
   "source": [
    "#SINLE LINE FOR LOOP CANT BE IMPLEMENTED FOR ASSIGNMENT OPERATIONS\n",
    "#USE IT FOR SINGLE LINE NON ASSIGNING STATEMENTS ONLY LIKE GIVEN BELOW\n",
    "[[plt.scatter(point[0],point[1],color=group,marker=pt_shape[group]) for point in dataset[group]] for group in dataset]\n",
    "plt.show()"
   ]
  },
  {
   "cell_type": "code",
   "execution_count": 58,
   "metadata": {},
   "outputs": [
    {
     "name": "stdout",
     "output_type": "stream",
     "text": [
      "[6, 6]\n",
      "orange\n"
     ]
    }
   ],
   "source": [
    "group=k_nearest_neighbors(dataset,predict,k=3)\n",
    "print(predict)\n",
    "print(group)"
   ]
  },
  {
   "cell_type": "code",
   "execution_count": 59,
   "metadata": {},
   "outputs": [
    {
     "data": {
      "text/plain": [
       "[]"
      ]
     },
     "execution_count": 59,
     "metadata": {},
     "output_type": "execute_result"
    },
    {
     "data": {
      "image/png": "[encoded data removed]",
      "text/plain": [
       "<Figure size 432x288 with 1 Axes>"
      ]
     },
     "metadata": {},
     "output_type": "display_data"
    }
   ],
   "source": [
    "[[plt.scatter(point[0],point[1],color=group,marker=pt_shape[group]) for point in dataset[group]] for group in dataset]\n",
    "plt.scatter(predict[0],predict[1],color=group,marker=pt_shape[group])\n",
    "plt.plot()"
   ]
  },
  {
   "cell_type": "code",
   "execution_count": null,
   "metadata": {},
   "outputs": [],
   "source": []
  }
 ],
 "metadata": {
  "kernelspec": {
   "display_name": "Python 3",
   "language": "python",
   "name": "python3"
  },
  "language_info": {
   "codemirror_mode": {
    "name": "ipython",
    "version": 3
   },
   "file_extension": ".py",
   "mimetype": "text/x-python",
   "name": "python",
   "nbconvert_exporter": "python",
   "pygments_lexer": "ipython3",
   "version": "3.7.3"
  }
 },
 "nbformat": 4,
 "nbformat_minor": 2
}
