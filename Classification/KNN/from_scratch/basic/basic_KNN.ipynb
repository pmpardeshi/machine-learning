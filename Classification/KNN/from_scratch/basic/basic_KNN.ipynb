{
 "cells": [
  {
   "cell_type": "code",
   "execution_count": 15,
   "metadata": {},
   "outputs": [],
   "source": [
    "import numpy as np\n",
    "import matplotlib.pyplot as plt\n",
    "import warnings\n",
    "from collections import Counter\n",
    "from matplotlib import style\n",
    "style.use('fivethirtyeight')"
   ]
  },
  {
   "cell_type": "code",
   "execution_count": 16,
   "metadata": {},
   "outputs": [],
   "source": [
    "dataset={'g':[[1,2],[2,3],[3,1]],'r':[[6,5],[7,7],[8,6]]}"
   ]
  },
  {
   "cell_type": "code",
   "execution_count": 17,
   "metadata": {},
   "outputs": [
    {
     "data": {
      "text/plain": [
       "{'g': [[1, 2], [2, 3], [3, 1]], 'r': [[6, 5], [7, 7], [8, 6]]}"
      ]
     },
     "execution_count": 17,
     "metadata": {},
     "output_type": "execute_result"
    }
   ],
   "source": [
    "dataset"
   ]
  },
  {
   "cell_type": "code",
   "execution_count": 41,
   "metadata": {},
   "outputs": [],
   "source": [
    "new_feature=[4,6]"
   ]
  },
  {
   "cell_type": "code",
   "execution_count": 29,
   "metadata": {},
   "outputs": [],
   "source": [
    "#for i in dataset:\n",
    "#    for j in dataset[i]:\n",
    " #       plt.scatter(j[0],j[1])"
   ]
  },
  {
   "cell_type": "code",
   "execution_count": 30,
   "metadata": {},
   "outputs": [
    {
     "data": {
      "text/plain": [
       "[[<matplotlib.collections.PathCollection at 0x7fd13901d5c0>,\n",
       "  <matplotlib.collections.PathCollection at 0x7fd13901d9e8>,\n",
       "  <matplotlib.collections.PathCollection at 0x7fd13901dcf8>],\n",
       " [<matplotlib.collections.PathCollection at 0x7fd13901df28>,\n",
       "  <matplotlib.collections.PathCollection at 0x7fd139029278>,\n",
       "  <matplotlib.collections.PathCollection at 0x7fd139029668>]]"
      ]
     },
     "execution_count": 30,
     "metadata": {},
     "output_type": "execute_result"
    },
    {
     "data": {
      "image/png": "[encoded data removed]",
      "text/plain": [
       "<Figure size 432x288 with 1 Axes>"
      ]
     },
     "metadata": {},
     "output_type": "display_data"
    }
   ],
   "source": [
    "#one liner forloop for scattering dataset\n",
    "#this is just to visualise the data\n",
    "[[plt.scatter(j[0],j[1],s=100,color=i) for j in dataset[i]] for i in dataset]"
   ]
  },
  {
   "cell_type": "code",
   "execution_count": 31,
   "metadata": {},
   "outputs": [],
   "source": [
    "#knn starts from here"
   ]
  },
  {
   "cell_type": "code",
   "execution_count": 48,
   "metadata": {},
   "outputs": [],
   "source": [
    "def k_nearest_neighbors(data,predict,k=3):\n",
    "    #value of k should always be greater than total classification classes\n",
    "    #for e.g. for 2 classes k should be 3 and we are cheking it below\n",
    "    if k<=len(data):\n",
    "        warnings.warn(\"the value of k is less that total voting groups\")\n",
    "        \n",
    "    distances=[]\n",
    "    \n",
    "    for groups in data:\n",
    "        for features in data[groups]:\n",
    "            euclidean_distance = np.linalg.norm(np.array(features)-np.array(predict))\n",
    "            distances.append([euclidean_distance,groups])\n",
    "            \n",
    "    votes=[i[1] for i in sorted(distances)[:k]]\n",
    "    \n",
    "    #counter's mostcommon functiion takes argument for how many most common elems we want\n",
    "    #we only want single most column so 1\n",
    "    #it returns list of tuples thus [0] for first tuple\n",
    "    #this tuple contain 2 elemnts 1 is most common element nd its occurances\n",
    "    #we only want the element so [0]\n",
    "    print(Counter(votes).most_common(2))#for two most common elements\n",
    "    print(Counter(votes).most_common(1))#for one most common element\n",
    "    vote_results=Counter(votes).most_common(1)[0][0]\n",
    "    \n",
    "    return vote_results"
   ]
  },
  {
   "cell_type": "code",
   "execution_count": 50,
   "metadata": {},
   "outputs": [
    {
     "name": "stdout",
     "output_type": "stream",
     "text": [
      "[('r', 2), ('g', 1)]\n",
      "[('r', 2)]\n"
     ]
    }
   ],
   "source": [
    "result=k_nearest_neighbors(dataset,new_feature,k=3)"
   ]
  },
  {
   "cell_type": "code",
   "execution_count": 51,
   "metadata": {},
   "outputs": [
    {
     "name": "stdout",
     "output_type": "stream",
     "text": [
      "r\n"
     ]
    }
   ],
   "source": [
    "print(result)"
   ]
  },
  {
   "cell_type": "code",
   "execution_count": 44,
   "metadata": {},
   "outputs": [
    {
     "data": {
      "image/png": "[encoded data removed]",
      "text/plain": [
       "<Figure size 432x288 with 1 Axes>"
      ]
     },
     "metadata": {},
     "output_type": "display_data"
    }
   ],
   "source": [
    "[[plt.scatter(j[0],j[1],s=100,color=i) for j in dataset[i]] for i in dataset]\n",
    "plt.scatter(new_feature[0],new_feature[1],color=result,s=100)#color is based on results\n",
    "plt.show()"
   ]
  },
  {
   "cell_type": "code",
   "execution_count": 45,
   "metadata": {},
   "outputs": [
    {
     "name": "stdout",
     "output_type": "stream",
     "text": [
      "[('g', 2), ('r', 1)]\n",
      "[('g', 2)]\n"
     ]
    }
   ],
   "source": [
    "result=k_nearest_neighbors(dataset,[4,4],k=3)"
   ]
  },
  {
   "cell_type": "code",
   "execution_count": 46,
   "metadata": {},
   "outputs": [
    {
     "data": {
      "image/png": "[encoded data removed]",
      "text/plain": [
       "<Figure size 432x288 with 1 Axes>"
      ]
     },
     "metadata": {},
     "output_type": "display_data"
    }
   ],
   "source": [
    "[[plt.scatter(j[0],j[1],s=100,color=i) for j in dataset[i]] for i in dataset]\n",
    "plt.scatter(4,4,color=result,s=100)#color is based on results\n",
    "plt.show()"
   ]
  },
  {
   "cell_type": "code",
   "execution_count": null,
   "metadata": {},
   "outputs": [],
   "source": []
  }
 ],
 "metadata": {
  "kernelspec": {
   "display_name": "Python 3",
   "language": "python",
   "name": "python3"
  },
  "language_info": {
   "codemirror_mode": {
    "name": "ipython",
    "version": 3
   },
   "file_extension": ".py",
   "mimetype": "text/x-python",
   "name": "python",
   "nbconvert_exporter": "python",
   "pygments_lexer": "ipython3",
   "version": "3.7.3"
  }
 },
 "nbformat": 4,
 "nbformat_minor": 2
}
