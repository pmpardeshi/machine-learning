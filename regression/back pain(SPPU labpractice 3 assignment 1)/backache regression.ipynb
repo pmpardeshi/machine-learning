{
 "cells": [
  {
   "cell_type": "code",
   "execution_count": null,
   "metadata": {},
   "outputs": [],
   "source": [
    "#Assignment on Linear Regression:The  following  table  shows  the  results  of  a  recently \n",
    "#conducted  study  on  the  correlation  of  the number of hours spent driving with the \n",
    "#risk of developing acute backache. Find the equation of the best fit line forthis data."
   ]
  },
  {
   "cell_type": "code",
   "execution_count": 46,
   "metadata": {},
   "outputs": [],
   "source": [
    "import numpy as np\n",
    "from statistics import mean\n",
    "import matplotlib.pyplot as plt\n",
    "from matplotlib import style"
   ]
  },
  {
   "cell_type": "code",
   "execution_count": 47,
   "metadata": {},
   "outputs": [],
   "source": [
    "style.use('fivethirtyeight')"
   ]
  },
  {
   "cell_type": "code",
   "execution_count": 48,
   "metadata": {},
   "outputs": [],
   "source": [
    "X=np.array([10,9,2,15,10,16,11,16],dtype=np.float64) #hours spent on driving\n",
    "y=np.array([95,80,10,50,45,98,38,93],dtype=np.float64) #risk score on the scale of 0 - 100"
   ]
  },
  {
   "cell_type": "code",
   "execution_count": 49,
   "metadata": {},
   "outputs": [],
   "source": [
    "def best_fit_slope_and_y_intercept(xs,ys):\n",
    "    m=(((mean(xs)*mean(ys))-(mean(xs*ys)))/((mean(xs)**2)-(mean(xs**2))))\n",
    "    b=mean(ys)-m*mean(xs)\n",
    "    return m,b"
   ]
  },
  {
   "cell_type": "code",
   "execution_count": 50,
   "metadata": {},
   "outputs": [],
   "source": [
    "m,b=slope_and_y_intercept(X,y)"
   ]
  },
  {
   "cell_type": "code",
   "execution_count": 51,
   "metadata": {},
   "outputs": [
    {
     "name": "stdout",
     "output_type": "stream",
     "text": [
      "4.58789860997547 12.584627964022893\n"
     ]
    }
   ],
   "source": [
    "print(m,b)"
   ]
  },
  {
   "cell_type": "code",
   "execution_count": 52,
   "metadata": {},
   "outputs": [],
   "source": [
    "def get_regression_line(X,m,b):\n",
    "    return np.array([m*x+b for x in X],dtype=np.float64)"
   ]
  },
  {
   "cell_type": "code",
   "execution_count": 53,
   "metadata": {},
   "outputs": [],
   "source": [
    "regression_line=get_regression_line(X,m,b)"
   ]
  },
  {
   "cell_type": "code",
   "execution_count": 54,
   "metadata": {},
   "outputs": [
    {
     "data": {
      "text/plain": [
       "array([58.46361406, 53.87571545, 21.76042518, 81.40310711, 58.46361406,\n",
       "       85.99100572, 63.05151267, 85.99100572])"
      ]
     },
     "execution_count": 54,
     "metadata": {},
     "output_type": "execute_result"
    }
   ],
   "source": [
    "regression_line"
   ]
  },
  {
   "cell_type": "code",
   "execution_count": 55,
   "metadata": {},
   "outputs": [
    {
     "data": {
      "image/png": "[encoded data removed]",
      "text/plain": [
       "<Figure size 432x288 with 1 Axes>"
      ]
     },
     "metadata": {},
     "output_type": "display_data"
    }
   ],
   "source": [
    "plt.scatter(X,y)\n",
    "plt.plot(X,regression_line,color='r')\n",
    "plt.show()"
   ]
  },
  {
   "cell_type": "code",
   "execution_count": 56,
   "metadata": {},
   "outputs": [
    {
     "name": "stdout",
     "output_type": "stream",
     "text": [
      "the equation of best fit line is y = (4.59)x + 12.58\n"
     ]
    }
   ],
   "source": [
    "print(f'the equation of best fit line is y = ({m:.2f})x + {b:.2f}')"
   ]
  },
  {
   "cell_type": "code",
   "execution_count": null,
   "metadata": {},
   "outputs": [],
   "source": []
  }
 ],
 "metadata": {
  "kernelspec": {
   "display_name": "Python 3",
   "language": "python",
   "name": "python3"
  },
  "language_info": {
   "codemirror_mode": {
    "name": "ipython",
    "version": 3
   },
   "file_extension": ".py",
   "mimetype": "text/x-python",
   "name": "python",
   "nbconvert_exporter": "python",
   "pygments_lexer": "ipython3",
   "version": "3.7.3"
  }
 },
 "nbformat": 4,
 "nbformat_minor": 2
}
